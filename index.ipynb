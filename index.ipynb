{
 "cells": [
  {
   "cell_type": "markdown",
   "metadata": {},
   "source": [
    "# Introduction to Neural Networks - Lab"
   ]
  },
  {
   "cell_type": "markdown",
   "metadata": {},
   "source": [
    "## Introduction"
   ]
  },
  {
   "cell_type": "markdown",
   "metadata": {},
   "source": [
    "Congratulations, you made it to your first lab! In this lab, you'll practice everything you have learned during the lecture. We know there is quite a bit of math involved, but don't worry! Using Python and trying things out yourself will actually make a lot of things much more clear! Before we start, let's load some necessary libraries so we can import our data."
   ]
  },
  {
   "cell_type": "markdown",
   "metadata": {},
   "source": [
    "## Objectives\n",
    "\n",
    "You will be able to:\n",
    "* Import images using Keras\n",
    "* Build a simple neural network"
   ]
  },
  {
   "cell_type": "markdown",
   "metadata": {},
   "source": [
    "As usual, we'll start by importing the necessary packages that we'll use in this lab."
   ]
  },
  {
   "cell_type": "code",
   "execution_count": 3,
   "metadata": {},
   "outputs": [],
   "source": [
    "# !pip install Pillow\n",
    "# !pip install --upgrade keras"
   ]
  },
  {
   "cell_type": "code",
   "execution_count": 1,
   "metadata": {
    "scrolled": true
   },
   "outputs": [
    {
     "name": "stdout",
     "output_type": "stream",
     "text": [
      "Collecting package metadata: done\n",
      "Solving environment: failed\n",
      "\n",
      "PackagesNotFoundError: The following packages are missing from the target environment:\n",
      "  - pil\n",
      "\n",
      "\n",
      "Collecting package metadata: done\n",
      "Solving environment: done\n",
      "\n",
      "\n",
      "==> WARNING: A newer version of conda exists. <==\n",
      "  current version: 4.6.7\n",
      "  latest version: 4.6.12\n",
      "\n",
      "Please update conda by running\n",
      "\n",
      "    $ conda update -n base conda\n",
      "\n",
      "\n",
      "\n",
      "## Package Plan ##\n",
      "\n",
      "  environment location: /opt/conda/envs/learn-env\n",
      "\n",
      "  added / updated specs:\n",
      "    - pillow\n",
      "\n",
      "\n",
      "The following packages will be downloaded:\n",
      "\n",
      "    package                    |            build\n",
      "    ---------------------------|-----------------\n",
      "    ca-certificates-2019.3.9   |       hecc5488_0         146 KB  conda-forge\n",
      "    certifi-2019.3.9           |           py36_0         149 KB  conda-forge\n",
      "    jpeg-9c                    |    h14c3975_1001         251 KB  conda-forge\n",
      "    libtiff-4.0.10             |    h648cc4a_1001         592 KB  conda-forge\n",
      "    olefile-0.46               |             py_0          31 KB  conda-forge\n",
      "    openssl-1.0.2r             |       h14c3975_0         3.1 MB  conda-forge\n",
      "    pillow-5.3.0               |py36h00a061d_1000         598 KB  conda-forge\n",
      "    ------------------------------------------------------------\n",
      "                                           Total:         4.9 MB\n",
      "\n",
      "The following NEW packages will be INSTALLED:\n",
      "\n",
      "  libtiff            conda-forge/linux-64::libtiff-4.0.10-h648cc4a_1001\n",
      "  olefile            conda-forge/noarch::olefile-0.46-py_0\n",
      "  pillow             conda-forge/linux-64::pillow-5.3.0-py36h00a061d_1000\n",
      "\n",
      "The following packages will be UPDATED:\n",
      "\n",
      "  ca-certificates    pkgs/main::ca-certificates-2018.03.07~ --> conda-forge::ca-certificates-2019.3.9-hecc5488_0\n",
      "  certifi               pkgs/main::certifi-2018.8.13-py36_0 --> conda-forge::certifi-2019.3.9-py36_0\n",
      "  jpeg                        pkgs/main::jpeg-9b-h024ee3a_2 --> conda-forge::jpeg-9c-h14c3975_1001\n",
      "  openssl              pkgs/main::openssl-1.0.2p-h14c3975_0 --> conda-forge::openssl-1.0.2r-h14c3975_0\n",
      "\n",
      "\n",
      "\n",
      "Downloading and Extracting Packages\n",
      "openssl-1.0.2r       | 3.1 MB    | ##################################### | 100% \n",
      "olefile-0.46         | 31 KB     | ##################################### | 100% \n",
      "pillow-5.3.0         | 598 KB    | ##################################### | 100% \n",
      "libtiff-4.0.10       | 592 KB    | ##################################### | 100% \n",
      "certifi-2019.3.9     | 149 KB    | ##################################### | 100% \n",
      "jpeg-9c              | 251 KB    | ##################################### | 100% \n",
      "ca-certificates-2019 | 146 KB    | ##################################### | 100% \n",
      "Preparing transaction: done\n",
      "Verifying transaction: done\n",
      "Executing transaction: done\n"
     ]
    }
   ],
   "source": [
    "!conda uninstall PIL\n",
    "!conda install -y Pillow"
   ]
  },
  {
   "cell_type": "code",
   "execution_count": 2,
   "metadata": {},
   "outputs": [
    {
     "name": "stderr",
     "output_type": "stream",
     "text": [
      "Using TensorFlow backend.\n"
     ]
    }
   ],
   "source": [
    "from keras.preprocessing.image import ImageDataGenerator, array_to_img, img_to_array, load_img\n",
    "import numpy as np\n",
    "import os\n",
    "from IPython.display import display\n",
    "from PIL import Image\n"
   ]
  },
  {
   "cell_type": "markdown",
   "metadata": {},
   "source": [
    "In this lab, you'll get a bunch of images, and the purpose is to correctly classify these images as \"Santa\", meaning that Santa is present on the image or \"not Santa\" meaning that something else is in the images. \n",
    "\n",
    "If you have a look at this github repository, you'll notice that the images are simply stored in .jpeg-files and stored under the folder `/data`. Luckily, `keras` had great modules that make importing images stored in this type of format easy. We'll do this for you in the code below.\n",
    "\n",
    "The images in the `/data` folder have various resultions. We will reshape them so they are all have 64 x 64 pixels."
   ]
  },
  {
   "cell_type": "code",
   "execution_count": 3,
   "metadata": {},
   "outputs": [
    {
     "name": "stdout",
     "output_type": "stream",
     "text": [
      "Found 132 images belonging to 2 classes.\n",
      "Found 790 images belonging to 2 classes.\n"
     ]
    }
   ],
   "source": [
    "# directory path\n",
    "train_data_dir = 'data/train'\n",
    "test_data_dir = 'data/validation'\n",
    "\n",
    "# get all the data in the directory data/validation (132 images), \n",
    "#and reshape them\n",
    "test_generator = ImageDataGenerator().flow_from_directory(\n",
    "        test_data_dir, \n",
    "        target_size=(64, 64), batch_size=132)\n",
    "\n",
    "# get all the data in the directory data/train (790 images), and reshape them\n",
    "train_generator = ImageDataGenerator().flow_from_directory(\n",
    "        train_data_dir, \n",
    "        target_size=(64, 64), batch_size=790)\n",
    "\n",
    "# create the data sets\n",
    "train_images, train_labels = next(train_generator)\n",
    "test_images, test_labels = next(test_generator)"
   ]
  },
  {
   "cell_type": "code",
   "execution_count": 7,
   "metadata": {},
   "outputs": [
    {
     "data": {
      "text/plain": [
       "array([[[[255., 255., 255.],\n",
       "         [255., 255., 255.],\n",
       "         [255., 255., 255.],\n",
       "         ...,\n",
       "         [255., 252., 249.],\n",
       "         [255., 252., 249.],\n",
       "         [255., 252., 249.]],\n",
       "\n",
       "        [[255., 255., 255.],\n",
       "         [255., 255., 255.],\n",
       "         [255., 255., 255.],\n",
       "         ...,\n",
       "         [255., 252., 249.],\n",
       "         [255., 252., 249.],\n",
       "         [255., 252., 249.]],\n",
       "\n",
       "        [[255., 255., 255.],\n",
       "         [255., 255., 255.],\n",
       "         [255., 255., 255.],\n",
       "         ...,\n",
       "         [202., 193., 176.],\n",
       "         [202., 193., 176.],\n",
       "         [202., 193., 176.]],\n",
       "\n",
       "        ...,\n",
       "\n",
       "        [[243., 251., 236.],\n",
       "         [243., 251., 236.],\n",
       "         [243., 251., 236.],\n",
       "         ...,\n",
       "         [161., 181., 170.],\n",
       "         [159., 170., 138.],\n",
       "         [166., 180., 163.]],\n",
       "\n",
       "        [[243., 251., 236.],\n",
       "         [243., 251., 236.],\n",
       "         [243., 251., 236.],\n",
       "         ...,\n",
       "         [198., 212., 197.],\n",
       "         [204., 222., 198.],\n",
       "         [172., 187., 166.]],\n",
       "\n",
       "        [[243., 251., 236.],\n",
       "         [243., 251., 236.],\n",
       "         [243., 251., 236.],\n",
       "         ...,\n",
       "         [124., 140., 101.],\n",
       "         [155., 175., 148.],\n",
       "         [163., 188., 158.]]],\n",
       "\n",
       "\n",
       "       [[[ 84.,  39.,   8.],\n",
       "         [ 96.,  47.,  14.],\n",
       "         [ 93.,  44.,  11.],\n",
       "         ...,\n",
       "         [ 32.,  23.,   6.],\n",
       "         [ 56.,  29.,   8.],\n",
       "         [ 53.,  26.,   5.]],\n",
       "\n",
       "        [[ 80.,  39.,  11.],\n",
       "         [ 91.,  47.,  12.],\n",
       "         [ 91.,  47.,  12.],\n",
       "         ...,\n",
       "         [ 32.,  23.,   6.],\n",
       "         [ 52.,  25.,   4.],\n",
       "         [ 55.,  28.,   7.]],\n",
       "\n",
       "        [[ 80.,  39.,   9.],\n",
       "         [ 91.,  45.,  11.],\n",
       "         [ 89.,  44.,  11.],\n",
       "         ...,\n",
       "         [ 33.,  24.,   7.],\n",
       "         [ 52.,  25.,   4.],\n",
       "         [ 54.,  26.,   5.]],\n",
       "\n",
       "        ...,\n",
       "\n",
       "        [[ 55.,  27.,   6.],\n",
       "         [ 43.,  24.,   9.],\n",
       "         [ 39.,  27.,   3.],\n",
       "         ...,\n",
       "         [ 88.,  33.,   2.],\n",
       "         [ 82.,  33.,   3.],\n",
       "         [ 56.,  24.,  11.]],\n",
       "\n",
       "        [[ 55.,  26.,   8.],\n",
       "         [ 41.,  25.,   9.],\n",
       "         [ 41.,  25.,   2.],\n",
       "         ...,\n",
       "         [ 63.,  34.,   0.],\n",
       "         [ 75.,  25.,   0.],\n",
       "         [ 74.,  26.,   3.]],\n",
       "\n",
       "        [[ 61.,  30.,  10.],\n",
       "         [ 41.,  24.,   6.],\n",
       "         [ 41.,  22.,   7.],\n",
       "         ...,\n",
       "         [ 65.,  27.,  14.],\n",
       "         [ 59.,  22.,   4.],\n",
       "         [ 67.,  19.,   7.]]],\n",
       "\n",
       "\n",
       "       [[[255., 255., 255.],\n",
       "         [255., 255., 255.],\n",
       "         [255., 255., 255.],\n",
       "         ...,\n",
       "         [255., 255., 255.],\n",
       "         [255., 255., 255.],\n",
       "         [255., 255., 255.]],\n",
       "\n",
       "        [[255., 255., 255.],\n",
       "         [255., 255., 255.],\n",
       "         [255., 255., 255.],\n",
       "         ...,\n",
       "         [254., 254., 254.],\n",
       "         [255., 255., 255.],\n",
       "         [255., 255., 255.]],\n",
       "\n",
       "        [[255., 255., 255.],\n",
       "         [255., 255., 255.],\n",
       "         [255., 255., 255.],\n",
       "         ...,\n",
       "         [254., 254., 254.],\n",
       "         [255., 255., 255.],\n",
       "         [255., 255., 255.]],\n",
       "\n",
       "        ...,\n",
       "\n",
       "        [[255., 255., 255.],\n",
       "         [255., 255., 255.],\n",
       "         [255., 255., 255.],\n",
       "         ...,\n",
       "         [255., 255., 255.],\n",
       "         [255., 255., 255.],\n",
       "         [255., 255., 255.]],\n",
       "\n",
       "        [[255., 255., 255.],\n",
       "         [255., 255., 255.],\n",
       "         [255., 255., 255.],\n",
       "         ...,\n",
       "         [255., 255., 255.],\n",
       "         [255., 255., 255.],\n",
       "         [255., 255., 255.]],\n",
       "\n",
       "        [[255., 255., 255.],\n",
       "         [255., 255., 255.],\n",
       "         [255., 255., 255.],\n",
       "         ...,\n",
       "         [255., 255., 255.],\n",
       "         [255., 255., 255.],\n",
       "         [255., 255., 255.]]],\n",
       "\n",
       "\n",
       "       ...,\n",
       "\n",
       "\n",
       "       [[[ 52.,  42.,  30.],\n",
       "         [ 35.,  31.,  22.],\n",
       "         [ 29.,  27.,  15.],\n",
       "         ...,\n",
       "         [ 72.,  61.,  43.],\n",
       "         [ 26.,  27.,  21.],\n",
       "         [ 36.,  35.,  15.]],\n",
       "\n",
       "        [[ 26.,  27.,  21.],\n",
       "         [ 37.,  30.,  24.],\n",
       "         [ 31.,  28.,  11.],\n",
       "         ...,\n",
       "         [ 37.,  26.,  20.],\n",
       "         [ 43.,  40.,  31.],\n",
       "         [100.,  64.,  28.]],\n",
       "\n",
       "        [[ 20.,  22.,   9.],\n",
       "         [ 50.,  34.,  18.],\n",
       "         [ 14.,  17.,  10.],\n",
       "         ...,\n",
       "         [ 55.,  42.,  34.],\n",
       "         [ 25.,  24.,  19.],\n",
       "         [ 15.,  20.,  16.]],\n",
       "\n",
       "        ...,\n",
       "\n",
       "        [[191., 182., 165.],\n",
       "         [194., 186., 167.],\n",
       "         [193., 184., 167.],\n",
       "         ...,\n",
       "         [ 16.,  17.,  12.],\n",
       "         [ 17.,  18.,  13.],\n",
       "         [ 37.,  32.,  26.]],\n",
       "\n",
       "        [[191., 184., 168.],\n",
       "         [193., 186., 170.],\n",
       "         [196., 187., 170.],\n",
       "         ...,\n",
       "         [ 81.,  70.,  42.],\n",
       "         [ 55.,  41.,  32.],\n",
       "         [ 56.,  45.,  25.]],\n",
       "\n",
       "        [[193., 186., 170.],\n",
       "         [192., 185., 166.],\n",
       "         [194., 187., 169.],\n",
       "         ...,\n",
       "         [ 34.,  29.,  25.],\n",
       "         [ 25.,  21.,  18.],\n",
       "         [ 17.,  22.,  16.]]],\n",
       "\n",
       "\n",
       "       [[[ 46.,  69., 111.],\n",
       "         [ 46.,  69., 111.],\n",
       "         [ 45.,  70., 111.],\n",
       "         ...,\n",
       "         [ 54.,  83., 127.],\n",
       "         [ 53.,  82., 126.],\n",
       "         [ 53.,  82., 126.]],\n",
       "\n",
       "        [[ 46.,  69., 111.],\n",
       "         [ 46.,  69., 111.],\n",
       "         [ 45.,  70., 111.],\n",
       "         ...,\n",
       "         [ 51.,  82., 126.],\n",
       "         [ 50.,  81., 125.],\n",
       "         [ 50.,  81., 125.]],\n",
       "\n",
       "        [[ 48.,  69., 112.],\n",
       "         [ 47.,  70., 112.],\n",
       "         [ 46.,  71., 112.],\n",
       "         ...,\n",
       "         [ 51.,  82., 126.],\n",
       "         [ 51.,  82., 126.],\n",
       "         [ 51.,  82., 126.]],\n",
       "\n",
       "        ...,\n",
       "\n",
       "        [[ 61.,  90., 122.],\n",
       "         [ 52.,  89., 118.],\n",
       "         [ 56.,  90., 125.],\n",
       "         ...,\n",
       "         [ 60., 103., 138.],\n",
       "         [ 60., 103., 138.],\n",
       "         [ 57.,  99., 137.]],\n",
       "\n",
       "        [[ 60.,  86., 121.],\n",
       "         [ 55.,  89., 124.],\n",
       "         [ 58.,  92., 127.],\n",
       "         ...,\n",
       "         [ 60., 103., 138.],\n",
       "         [ 60., 103., 138.],\n",
       "         [ 57.,  99., 137.]],\n",
       "\n",
       "        [[ 35.,  39.,  64.],\n",
       "         [ 57.,  90., 125.],\n",
       "         [ 58.,  92., 127.],\n",
       "         ...,\n",
       "         [ 60., 103., 138.],\n",
       "         [ 60., 103., 138.],\n",
       "         [ 57.,  99., 137.]]],\n",
       "\n",
       "\n",
       "       [[[ 20.,  19.,  15.],\n",
       "         [ 24.,  20.,  17.],\n",
       "         [ 27.,  24.,  19.],\n",
       "         ...,\n",
       "         [108.,  76.,  53.],\n",
       "         [112.,  95.,  85.],\n",
       "         [119.,  97.,  86.]],\n",
       "\n",
       "        [[ 24.,  20.,  17.],\n",
       "         [ 28.,  23.,  19.],\n",
       "         [ 34.,  26.,  23.],\n",
       "         ...,\n",
       "         [123.,  80.,  46.],\n",
       "         [124.,  79.,  48.],\n",
       "         [119.,  76.,  41.]],\n",
       "\n",
       "        [[ 31.,  23.,  20.],\n",
       "         [ 35.,  24.,  18.],\n",
       "         [ 41.,  28.,  22.],\n",
       "         ...,\n",
       "         [127.,  84.,  49.],\n",
       "         [124.,  81.,  49.],\n",
       "         [125.,  82.,  48.]],\n",
       "\n",
       "        ...,\n",
       "\n",
       "        [[146., 105.,  73.],\n",
       "         [150., 115.,  87.],\n",
       "         [157., 124.,  93.],\n",
       "         ...,\n",
       "         [183., 167., 151.],\n",
       "         [174., 153., 136.],\n",
       "         [165., 144., 127.]],\n",
       "\n",
       "        [[141., 106.,  76.],\n",
       "         [153., 118.,  90.],\n",
       "         [155., 121.,  93.],\n",
       "         ...,\n",
       "         [170., 155., 132.],\n",
       "         [173., 152., 133.],\n",
       "         [167., 146., 129.]],\n",
       "\n",
       "        [[138., 100.,  63.],\n",
       "         [141., 107.,  70.],\n",
       "         [152., 119.,  86.],\n",
       "         ...,\n",
       "         [161., 143., 123.],\n",
       "         [162., 141., 122.],\n",
       "         [157., 135., 114.]]]], dtype=float32)"
      ]
     },
     "execution_count": 7,
     "metadata": {},
     "output_type": "execute_result"
    }
   ],
   "source": [
    "train_images"
   ]
  },
  {
   "cell_type": "markdown",
   "metadata": {},
   "source": [
    "## Inspecting and preparing the data"
   ]
  },
  {
   "cell_type": "markdown",
   "metadata": {},
   "source": [
    "## Look at some images"
   ]
  },
  {
   "cell_type": "markdown",
   "metadata": {},
   "source": [
    "Note that we have 4 numpy arrays now: `train_images`, `train_labels`, `test_images`, `test_labels`. We'll need to make some changes to the data in order to make them workable, but before we do anything else, let's have a look at some of the images we loaded. We'll look at some images in train_images. You can use `array_to_img()` from `keras.processing.image` on any `train_image` (select any train_image by doing `train_image[index]` to look at it."
   ]
  },
  {
   "cell_type": "code",
   "execution_count": 4,
   "metadata": {},
   "outputs": [
    {
     "data": {
      "image/png": "[encoded data removed]",
      "text/plain": [
       "<PIL.Image.Image image mode=RGB size=64x64 at 0x7FC6668A6EF0>"
      ]
     },
     "execution_count": 4,
     "metadata": {},
     "output_type": "execute_result"
    }
   ],
   "source": [
    "#Your code here preview an image\n",
    "array_to_img(train_images[7])"
   ]
  },
  {
   "cell_type": "code",
   "execution_count": 5,
   "metadata": {},
   "outputs": [
    {
     "data": {
      "image/png": "[encoded data removed]",
      "text/plain": [
       "<PIL.Image.Image image mode=RGB size=64x64 at 0x7FC666794E48>"
      ]
     },
     "execution_count": 5,
     "metadata": {},
     "output_type": "execute_result"
    }
   ],
   "source": [
    "#Your code here preview a second image\n",
    "array_to_img(train_images[19])"
   ]
  },
  {
   "cell_type": "markdown",
   "metadata": {},
   "source": [
    "## The shape of the data"
   ]
  },
  {
   "cell_type": "markdown",
   "metadata": {},
   "source": [
    "Now, let's use `np.shape()` to look at what these numpy arrays look like."
   ]
  },
  {
   "cell_type": "code",
   "execution_count": 6,
   "metadata": {},
   "outputs": [
    {
     "data": {
      "text/plain": [
       "(790, 64, 64, 3)"
      ]
     },
     "execution_count": 6,
     "metadata": {},
     "output_type": "execute_result"
    }
   ],
   "source": [
    "# Preview the shape of both the images and labels for both the train and test set (4 objects total)\n",
    "# Your code here\n",
    "np.shape(train_images)\n",
    "\n"
   ]
  },
  {
   "cell_type": "markdown",
   "metadata": {},
   "source": [
    "##  `train_images` and `test_images`"
   ]
  },
  {
   "cell_type": "markdown",
   "metadata": {},
   "source": [
    "Let's start with `train_images`. From the lecture, you might remember that the expected input shape is $n$ x $l$. How does this relate to what we see here?\n",
    "\n",
    "$l$ denotes the number of observations, or the number of images. The number of images in `train_images` is 790. $n$ is the number of elements in the feature vector for each image, or put differently, $n$ is the number of rows when unrowing the 3 (RGB) 64 x 64 matrices. \n",
    "\n",
    "So, translated to this example, we need to transform our `(790, 64, 64, 3)` matrix to a `(64*64*3, 790)` matrix! Hint: you should use both the `.reshape`-function and a transpose `.T`."
   ]
  },
  {
   "cell_type": "code",
   "execution_count": 7,
   "metadata": {},
   "outputs": [],
   "source": [
    "train_img_unrow = train_images.reshape(790, -1).T\n",
    "#Reshape the train images using the hints above\n"
   ]
  },
  {
   "cell_type": "markdown",
   "metadata": {},
   "source": [
    "Let's use np.shape on the newly created `train_img_unrow` to verify that the shape is correct."
   ]
  },
  {
   "cell_type": "code",
   "execution_count": 8,
   "metadata": {},
   "outputs": [
    {
     "data": {
      "text/plain": [
       "(12288, 790)"
      ]
     },
     "execution_count": 8,
     "metadata": {},
     "output_type": "execute_result"
    }
   ],
   "source": [
    "#Your code here; Preview the shape of your new object\n",
    "np.shape(train_img_unrow)"
   ]
  },
  {
   "cell_type": "markdown",
   "metadata": {},
   "source": [
    "Next, let's transform test_images in a similar way. Note that the dimensions are different here! Where we needed to have a matrix shape if $ n$ x $l $ for `train_images`, for `test_images`, we need to get to a shape of $ n$ x $m$. What is $m$ here?"
   ]
  },
  {
   "cell_type": "code",
   "execution_count": 9,
   "metadata": {},
   "outputs": [],
   "source": [
    "m = 132 #Define appropriate m\n",
    "test_img_unrow = test_images.reshape(m, -1).T"
   ]
  },
  {
   "cell_type": "code",
   "execution_count": 10,
   "metadata": {},
   "outputs": [
    {
     "data": {
      "text/plain": [
       "(12288, 132)"
      ]
     },
     "execution_count": 10,
     "metadata": {},
     "output_type": "execute_result"
    }
   ],
   "source": [
    "#Your code here; Once again preview the shape of your updated object\n",
    "np.shape(test_img_unrow)"
   ]
  },
  {
   "cell_type": "markdown",
   "metadata": {},
   "source": [
    "## `train_labels` and `test_labels`"
   ]
  },
  {
   "cell_type": "markdown",
   "metadata": {},
   "source": [
    "Earlier, you noticed that `train_labels` and `test_labels` have shapes of $(790, 2)$ and $(132, 2)$ respectively. In the lecture, we expected $1$ x $l$ and $1$ x $m$.\n",
    "\n",
    "Let's have a closer look."
   ]
  },
  {
   "cell_type": "code",
   "execution_count": 11,
   "metadata": {},
   "outputs": [
    {
     "data": {
      "text/plain": [
       "array([[0., 1.],\n",
       "       [1., 0.],\n",
       "       [0., 1.],\n",
       "       ...,\n",
       "       [1., 0.],\n",
       "       [0., 1.],\n",
       "       [1., 0.]], dtype=float32)"
      ]
     },
     "execution_count": 11,
     "metadata": {},
     "output_type": "execute_result"
    }
   ],
   "source": [
    "train_labels #Run this block of code; no need to edit"
   ]
  },
  {
   "cell_type": "markdown",
   "metadata": {},
   "source": [
    "Looking at this, it's clear that for each observation (or image), train_labels doesn't simply have an output of 1 or 0, but a pair either `[0,1]` or `[1,0]`.\n",
    "\n",
    "Having this information, we still don't know which pair correcponds with `santa` versus `not_santa`. Luckily, what this was stored using `keras.preprocessing_image`, and you can get more info using the command `train_generator.class_indices`."
   ]
  },
  {
   "cell_type": "code",
   "execution_count": 12,
   "metadata": {},
   "outputs": [
    {
     "data": {
      "text/plain": [
       "{'not_santa': 0, 'santa': 1}"
      ]
     },
     "execution_count": 12,
     "metadata": {},
     "output_type": "execute_result"
    }
   ],
   "source": [
    "train_generator.class_indices #Run this block of code; no need to edit"
   ]
  },
  {
   "cell_type": "markdown",
   "metadata": {},
   "source": [
    "Index 0 (the first column) represents `not_santa`, index 1 represents `santa`. Select one of the two columns and transpose the result such that you get a $1$ x $l$ and $1$ x $m$ vector respectively, and value `1` represents `santa`"
   ]
  },
  {
   "cell_type": "code",
   "execution_count": 13,
   "metadata": {},
   "outputs": [],
   "source": [
    "train_labels_final = train_labels.T[[1]]#Your code here"
   ]
  },
  {
   "cell_type": "code",
   "execution_count": 14,
   "metadata": {},
   "outputs": [
    {
     "data": {
      "text/plain": [
       "(1, 790)"
      ]
     },
     "execution_count": 14,
     "metadata": {},
     "output_type": "execute_result"
    }
   ],
   "source": [
    "np.shape(train_labels_final) #Run this block of code; no need to edit"
   ]
  },
  {
   "cell_type": "code",
   "execution_count": 15,
   "metadata": {},
   "outputs": [],
   "source": [
    "test_labels_final = test_labels.T[[1]] #Your code here; same as above but for the test labels."
   ]
  },
  {
   "cell_type": "code",
   "execution_count": 16,
   "metadata": {},
   "outputs": [
    {
     "data": {
      "text/plain": [
       "(1, 132)"
      ]
     },
     "execution_count": 16,
     "metadata": {},
     "output_type": "execute_result"
    }
   ],
   "source": [
    "np.shape(test_labels_final) #Run this block of code; no need to edit"
   ]
  },
  {
   "cell_type": "markdown",
   "metadata": {},
   "source": [
    "As a final sanity check, look at an image and the corresponding label, so we're sure that santa is indeed stored as `1`.\n",
    "\n",
    "- First, use `array_to_image` again on the original `train_images` with index 240 to look at this particular image.\n",
    "- Use train_labels_final to get the 240th label."
   ]
  },
  {
   "cell_type": "code",
   "execution_count": 17,
   "metadata": {},
   "outputs": [
    {
     "data": {
      "image/png": "[encoded data removed]",
      "text/plain": [
       "<PIL.Image.Image image mode=RGB size=64x64 at 0x7FC666845518>"
      ]
     },
     "execution_count": 17,
     "metadata": {},
     "output_type": "execute_result"
    }
   ],
   "source": [
    "#Your code here; preview train images 240\n",
    "array_to_img(train_images[240])"
   ]
  },
  {
   "cell_type": "code",
   "execution_count": 18,
   "metadata": {},
   "outputs": [
    {
     "data": {
      "text/plain": [
       "1.0"
      ]
     },
     "execution_count": 18,
     "metadata": {},
     "output_type": "execute_result"
    }
   ],
   "source": [
    "#Your code here; preview train labels 240\n",
    "train_labels_final[0][240]"
   ]
  },
  {
   "cell_type": "markdown",
   "metadata": {},
   "source": [
    "This seems to be correct! Feel free to try out other indices as well."
   ]
  },
  {
   "cell_type": "markdown",
   "metadata": {},
   "source": [
    "## Lastly, you'll want to standardize the data"
   ]
  },
  {
   "cell_type": "markdown",
   "metadata": {},
   "source": [
    "Remember that each RGB pixel in an image takes a value between 0 and 255. In Deep Learning, it is very common to standardize and/or center your data set. For images, a common thing that is done is to make sure each pixel value is between 0 and 1. This can be done by dividing the entire matrix by 255. Do this here for the `train_img_unrow` and `test_img_unrow`."
   ]
  },
  {
   "cell_type": "code",
   "execution_count": 19,
   "metadata": {},
   "outputs": [],
   "source": [
    "#Your code here\n",
    "train_img_final = train_img_unrow/255\n",
    "test_img_final = test_img_unrow/255\n"
   ]
  },
  {
   "cell_type": "code",
   "execution_count": 20,
   "metadata": {},
   "outputs": [
    {
     "data": {
      "text/plain": [
       "(12288, 790)"
      ]
     },
     "execution_count": 20,
     "metadata": {},
     "output_type": "execute_result"
    }
   ],
   "source": [
    "train_img_final.shape"
   ]
  },
  {
   "cell_type": "markdown",
   "metadata": {},
   "source": [
    "In what follows, we'll work with `train_img_final`, `test_img_final`, `train_labels_final`, `test_labels_final`."
   ]
  },
  {
   "cell_type": "markdown",
   "metadata": {},
   "source": [
    "## Building a logistic regression-based neural network"
   ]
  },
  {
   "cell_type": "markdown",
   "metadata": {},
   "source": [
    "## Math recap"
   ]
  },
  {
   "cell_type": "markdown",
   "metadata": {},
   "source": [
    "Now we can go ahead and build our own basic logistic regression-based neural network to disctinguish images with Santa from images without Santa. You've seen in the lecture that logistic regression can actually be represented a a very simple neural network.\n",
    "\n",
    "Remember that we defined that, for each $x^{(i)}$:\n",
    "\n",
    "\n",
    "$$ \\mathcal{L}(\\hat y ^{(i)}, y^{(i)}) =  - \\big( y^{(i)} \\log(\\hat y^{(i)}) + (1-y^{(i)} )  \\log(1-\\hat y^{(i)})\\big)$$\n",
    "\n",
    "$$\\hat{y}^{(i)} = \\sigma(z^{(i)}) = \\frac{1}{1 + e^{-(z^{(i)})}}$$ \n",
    "\n",
    "$$z^{(i)} = w^T x^{(i)} + b$$\n",
    "\n",
    "The cost function is then given by:\n",
    "$$J(w,b) = \\dfrac{1}{l}\\displaystyle\\sum^l_{i=1}\\mathcal{L}(\\hat y^{(i)}, y^{(i)})$$"
   ]
  },
  {
   "cell_type": "markdown",
   "metadata": {},
   "source": [
    "In the remainder of this lab, you'll do the following:\n",
    "\n",
    "   - You'll learn how to initialize the parameters of the model\n",
    "   - You'll perform forward propagation, and calculate the current loss\n",
    "   - You'll perform backward propagation (which is basically calculating the current gradient)\n",
    "   - You'll update the parameters (gradient descent)"
   ]
  },
  {
   "cell_type": "markdown",
   "metadata": {},
   "source": [
    "## Parameter initialization"
   ]
  },
  {
   "cell_type": "markdown",
   "metadata": {},
   "source": [
    "$w$ and $b$ are the unknown parameters to start with. We'll initialize them as 0.\n",
    "- remember that $b$ is a scalar\n",
    "- $w$ however, is a vector of shape $n$ x $1$, with $n$ being `horiz_pixel x vertic_pixel x 3`"
   ]
  },
  {
   "cell_type": "markdown",
   "metadata": {},
   "source": [
    "## initialize b"
   ]
  },
  {
   "cell_type": "markdown",
   "metadata": {},
   "source": [
    " Initialize b as a scalar with value 0."
   ]
  },
  {
   "cell_type": "code",
   "execution_count": 21,
   "metadata": {},
   "outputs": [],
   "source": [
    "#Your code here\n",
    "b = 0\n"
   ]
  },
  {
   "cell_type": "markdown",
   "metadata": {},
   "source": [
    "## Initialize w"
   ]
  },
  {
   "cell_type": "markdown",
   "metadata": {},
   "source": [
    "Create a function `init_w(n)` such that when n is filled out, you get a vector with zeros that has a shape $n$ x $1$."
   ]
  },
  {
   "cell_type": "code",
   "execution_count": 22,
   "metadata": {},
   "outputs": [],
   "source": [
    "#Your code here; define your function\n",
    "def init_w(n):\n",
    "    return np.zeros((n,1))"
   ]
  },
  {
   "cell_type": "code",
   "execution_count": 23,
   "metadata": {},
   "outputs": [],
   "source": [
    "#Your code here; call your function using appropriate parameters\n",
    "w =init_w(64*64*3)"
   ]
  },
  {
   "cell_type": "markdown",
   "metadata": {},
   "source": [
    "## Forward propagation"
   ]
  },
  {
   "cell_type": "markdown",
   "metadata": {},
   "source": [
    "Forward Propagation:\n",
    "- You get `x`\n",
    "- You compute `y_hat`: \n",
    "$$ (\\hat y^{(1)}, \\hat y^{(2)}, \\ldots , \\hat y^{(l)})= \\sigma(w^T x + b) = \\Biggr(\\dfrac{1}{1+exp(w^T x^{(1)}+ b)},\\ldots, \\dfrac{1}{1+exp(w^T x^{(l)}+ b)}\\Biggr) $$\n",
    "- You calculate the `cost` function: $J(w,b) = -\\dfrac{1}{l}\\displaystyle\\sum_{i=1}^{l}y^{(i)}\\log(\\hat y^{(i)})+(1-y^{(i)})\\log(1-\\hat y^{(i)})$\n",
    "\n",
    "Here are the two formulas you will be using to compute the gradients. Don't be scared off by the mathematics. The long formulas are just to show that this corresponds with what we derived in the lectures!\n",
    "\n",
    "$$ \\frac{dJ(w,b)}{dw} = \\displaystyle\\frac{1}{l}\\displaystyle\\sum^l_{i=1} \\frac{d\\mathcal{L}(\\hat y^{(i)}, y^{(i)})}{dw}= \\displaystyle\\frac{1}{l}\\displaystyle\\sum^l_{i=1} x^{(i)} dz^{(i)}  = \\displaystyle\\frac{1}{l}\\displaystyle\\sum^l_{i=1} x^{(i)}(\\hat y^{(i)}-y^{(i)})  = \\frac{1}{l}x(\\hat y-y)^T$$\n",
    "\n",
    "$$ \\frac{dJ(w,b)}{db} = \\displaystyle\\frac{1}{l}\\displaystyle\\sum^l_{i=1} \\frac{d\\mathcal{L}(\\hat y^{(i)}, y^{(i)})}{db}= \\displaystyle\\frac{1}{l}\\displaystyle\\sum^l_{i=1} dz^{(i)}  = \\displaystyle\\frac{1}{l}\\displaystyle\\sum^l_{i=1} (\\hat y^{(i)}-y^{(i)})$$"
   ]
  },
  {
   "cell_type": "code",
   "execution_count": 24,
   "metadata": {},
   "outputs": [],
   "source": [
    "#Your code here; define the propagation function\n",
    "def propagation(w,b,x,y):\n",
    "    lg = x.shape[1]\n",
    "    y_h = 1/(1+np.exp(np.dot(w.T,x)+b))\n",
    "    cost = -(1/lg)*np.sum(y*np.log(y_h)+(1-y)*np.log(1-y_h))\n",
    "    dw = (1/lg)*np.dot(x,(y_h-y).T)\n",
    "    db = (1/lg)*np.sum(y_h-y)\n",
    "    return dw, db, cost"
   ]
  },
  {
   "cell_type": "code",
   "execution_count": 25,
   "metadata": {},
   "outputs": [],
   "source": [
    "dw, db, cost = propagation(w, b, train_img_final, train_labels_final)\n",
    "#Your code here; use your propogation function to return d2, db and the associated cost\n",
    "\n",
    "\n"
   ]
  },
  {
   "cell_type": "code",
   "execution_count": 26,
   "metadata": {},
   "outputs": [
    {
     "name": "stdout",
     "output_type": "stream",
     "text": [
      "[[-0.05784065]\n",
      " [-0.05436336]\n",
      " [-0.06367089]\n",
      " ...\n",
      " [-0.07482998]\n",
      " [-0.06692231]\n",
      " [-0.07262596]]\n",
      "-0.01139240506329114\n",
      "0.6931471805599452\n"
     ]
    }
   ],
   "source": [
    "print(dw)\n",
    "\n",
    "print(db)\n",
    "\n",
    "print(cost)"
   ]
  },
  {
   "cell_type": "markdown",
   "metadata": {},
   "source": [
    "## Optimization"
   ]
  },
  {
   "cell_type": "markdown",
   "metadata": {},
   "source": [
    "Next, in the optimization step, we have to update $w$ and $b$ as follows:\n",
    "\n",
    "$$w := w - \\alpha * dw$$\n",
    "$$b := b - \\alpha * db$$\n",
    "\n",
    "Note that this `optimization` function also takes in the propagation function. It loops over the `propagation` function in each iteration, and updates both $w$ and $b$ right after that! "
   ]
  },
  {
   "cell_type": "code",
   "execution_count": 28,
   "metadata": {},
   "outputs": [],
   "source": [
    "#Complete the function below using your propogation function to define dw, db and cost. \n",
    "#Then use the formula above to update w and b in the optimization function.\n",
    "def optimization(w, b, x, y, num_iterations, learning_rate, print_cost = False):\n",
    "    \n",
    "    costs = []\n",
    "    \n",
    "    for i in range(num_iterations):\n",
    "        dw, db, cost = propagation(w,b,x,y) #Your code here\n",
    "        w = w + learning_rate*dw #Your code here\n",
    "        b = b + learning_rate*db #Your code here\n",
    "        \n",
    "        # Record the costs and print them every 50 iterations\n",
    "        if i % 50 == 0:\n",
    "            costs.append(cost)\n",
    "        if print_cost and i % 50 == 0:\n",
    "            print (\"Cost after iteration %i: %f\" %(i, cost))\n",
    "    return w, b, costs"
   ]
  },
  {
   "cell_type": "code",
   "execution_count": 29,
   "metadata": {},
   "outputs": [
    {
     "name": "stdout",
     "output_type": "stream",
     "text": [
      "Cost after iteration 0: 0.693147\n",
      "Cost after iteration 50: 0.675005\n",
      "Cost after iteration 100: 0.668414\n",
      "Cost after iteration 150: 0.662114\n"
     ]
    }
   ],
   "source": [
    "#Run this block of code as is\n",
    "w, b, costs = optimization(w, b, train_img_final, train_labels_final, num_iterations= 151, learning_rate = 0.0001, print_cost = True)\n",
    "\n"
   ]
  },
  {
   "cell_type": "markdown",
   "metadata": {},
   "source": [
    "## Make label predictions: Santa or not?"
   ]
  },
  {
   "cell_type": "markdown",
   "metadata": {},
   "source": [
    "Next, let's create a function that makes label predictions. We'll later use this when we will look at our Santa pictures. What we want, is a label that is equal to 1 when the predicted $y$ is bigger than 0.5, and 0 otherwise."
   ]
  },
  {
   "cell_type": "code",
   "execution_count": 30,
   "metadata": {},
   "outputs": [],
   "source": [
    "def prediction(w, b, x):\n",
    "    l = x.shape[1]\n",
    "    y_prediction = np.zeros((1,l)) #Initialize a prediction vector\n",
    "    w = w.reshape(x.shape[0], 1)\n",
    "    y_hat = 1/(1 + np.exp(- (np.dot(w.T,x)+b))) #Your code here; the sigmoid function given w, b and x\n",
    "    p = y_hat\n",
    "    \n",
    "    for i in range(y_hat.shape[1]):\n",
    "        if (y_hat[0,i] > 0.5): \n",
    "            y_prediction[0,i] = 1\n",
    "        else:\n",
    "            y_prediction[0,i] = 0\n",
    "            #Transform the probability into a binary classification using 0.5 as the cutoff\n",
    "    return y_prediction"
   ]
  },
  {
   "cell_type": "markdown",
   "metadata": {},
   "source": [
    "Let's try this out on a small example. Make sure to have 4 predictions in your output here!"
   ]
  },
  {
   "cell_type": "code",
   "execution_count": 31,
   "metadata": {},
   "outputs": [
    {
     "data": {
      "text/plain": [
       "array([[1., 1., 0., 0.]])"
      ]
     },
     "execution_count": 31,
     "metadata": {},
     "output_type": "execute_result"
    }
   ],
   "source": [
    "#Run this block of code as is\n",
    "w = np.array([[0.035],[0.123],[0.217]])\n",
    "b = 0.2\n",
    "x = np.array([[0.2,0.4,-1.2,-2],[1,-2.,0.1,-1],[0.2,0.4,-1.2,-2]])\n",
    "\n",
    "prediction(w,b,x)"
   ]
  },
  {
   "cell_type": "markdown",
   "metadata": {},
   "source": [
    "## The overall model"
   ]
  },
  {
   "cell_type": "markdown",
   "metadata": {},
   "source": [
    "Now, let's build the overall model!"
   ]
  },
  {
   "cell_type": "code",
   "execution_count": 43,
   "metadata": {},
   "outputs": [],
   "source": [
    "#This code is provided to you as is, but should be carefully reviewed.\n",
    "def model(x_train, y_train, x_test, y_test, num_iterations = 2000, \n",
    "          learning_rate = 0.5, print_cost = False):\n",
    "\n",
    "    b = 0\n",
    "    w = init_w(np.shape(x_train)[0]) \n",
    "\n",
    "    # Gradient descent (≈ 1 line of code)\n",
    "#     w, b, costs = optimization(w, b, x_train, y_train, num_iterations, \n",
    "#                                learning_rate, print_cost)\n",
    "    \n",
    "    y_pred_test = prediction(w, b, x_test)\n",
    "    y_pred_train = prediction(w, b, x_train)\n",
    "\n",
    "    # Print train/test Errors\n",
    "    print(\"train accuracy: {} %\".format(np.mean(np.abs(y_pred_train - y_train)) * 100))\n",
    "    print(\"test accuracy: {} %\".format(np.mean(np.abs(y_pred_test - y_test)) * 100))\n",
    "\n",
    "    output = {\"costs\": costs,\n",
    "         \"y_pred_test\": y_pred_test, \n",
    "         \"y_pred_train\" : y_pred_train, \n",
    "         \"w\" : w, \n",
    "         \"b\" : b,\n",
    "         \"learning_rate\" : learning_rate,\n",
    "         \"num_iterations\": num_iterations}\n",
    "    \n",
    "    return output\n",
    "\n"
   ]
  },
  {
   "cell_type": "code",
   "execution_count": 44,
   "metadata": {},
   "outputs": [
    {
     "name": "stdout",
     "output_type": "stream",
     "text": [
      "Cost after iteration 0: 0.693147\n",
      "Cost after iteration 50: 0.880402\n",
      "Cost after iteration 100: 0.763331\n",
      "Cost after iteration 150: 0.628797\n",
      "Cost after iteration 200: 0.518186\n",
      "Cost after iteration 250: 0.442320\n",
      "Cost after iteration 300: 0.391254\n",
      "Cost after iteration 350: 0.354488\n",
      "Cost after iteration 400: 0.326262\n",
      "Cost after iteration 450: 0.304070\n",
      "Cost after iteration 500: 0.287473\n",
      "Cost after iteration 550: 0.276690\n",
      "Cost after iteration 600: 0.269139\n",
      "Cost after iteration 650: 0.262364\n",
      "Cost after iteration 700: 0.255995\n",
      "Cost after iteration 750: 0.249976\n",
      "Cost after iteration 800: 0.244271\n",
      "Cost after iteration 850: 0.238848\n",
      "Cost after iteration 900: 0.233684\n",
      "Cost after iteration 950: 0.228756\n",
      "Cost after iteration 1000: 0.224046\n",
      "Cost after iteration 1050: 0.219537\n",
      "Cost after iteration 1100: 0.215215\n",
      "Cost after iteration 1150: 0.211066\n",
      "Cost after iteration 1200: 0.207080\n",
      "Cost after iteration 1250: 0.203246\n",
      "Cost after iteration 1300: 0.199553\n",
      "Cost after iteration 1350: 0.195995\n",
      "Cost after iteration 1400: 0.192562\n",
      "Cost after iteration 1450: 0.189248\n",
      "Cost after iteration 1500: 0.186047\n",
      "Cost after iteration 1550: 0.182951\n",
      "Cost after iteration 1600: 0.179957\n",
      "Cost after iteration 1650: 0.177057\n",
      "Cost after iteration 1700: 0.174249\n",
      "Cost after iteration 1750: 0.171527\n",
      "Cost after iteration 1800: 0.168887\n",
      "Cost after iteration 1850: 0.166326\n",
      "Cost after iteration 1900: 0.163839\n",
      "Cost after iteration 1950: 0.161424\n",
      "train accuracy: 96.9620253164557 %\n",
      "test accuracy: 55.53568659350614 %\n"
     ]
    }
   ],
   "source": [
    "output = model(train_img_final, train_labels_final, test_img_final, test_img_final, num_iterations = 2000, learning_rate = 0.005, print_cost = True)\n"
   ]
  },
  {
   "cell_type": "markdown",
   "metadata": {},
   "source": [
    "## Summary\n",
    "\n",
    "Well done! In this lab you implemented your first neural network in order to identify images of Santa! In upcoming labs you'll see how to extend your neural networks to include a larger number of layers and how to then successively prune these complex schemas to improve test and train accuracies."
   ]
  }
 ],
 "metadata": {
  "kernelspec": {
   "display_name": "Python 3",
   "language": "python",
   "name": "python3"
  },
  "language_info": {
   "codemirror_mode": {
    "name": "ipython",
    "version": 3
   },
   "file_extension": ".py",
   "mimetype": "text/x-python",
   "name": "python",
   "nbconvert_exporter": "python",
   "pygments_lexer": "ipython3",
   "version": "3.6.6"
  }
 },
 "nbformat": 4,
 "nbformat_minor": 2
}
